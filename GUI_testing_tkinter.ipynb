{
 "cells": [
  {
   "cell_type": "code",
   "execution_count": 1,
   "id": "bb1a8f88",
   "metadata": {},
   "outputs": [],
   "source": [
    "from tkinter import *\n",
    "from PIL import Image, ImageTk\n",
    "import cv2\n",
    "import numpy as np\n",
    "\n",
    "image_name = './uno_images/b0.jpg'\n",
    "\n",
    "image = cv2.imread(image_name)\n",
    "\n",
    "#Rearrang the color channel\n",
    "b,g,r = cv2.split(image)\n",
    "img = cv2.merge((r,g,b))\n",
    "\n",
    "# A root window for displaying objects\n",
    "root = Tk()  \n",
    "\n",
    "# Convert the Image object into a TkPhoto object\n",
    "im = Image.fromarray(img)\n",
    "imgtk = ImageTk.PhotoImage(image=im) \n",
    "\n",
    "# Put it in the display window\n",
    "Label(root, image=imgtk).pack() \n",
    "\n",
    "root.mainloop() # Start the GUI"
   ]
  }
 ],
 "metadata": {
  "kernelspec": {
   "display_name": "Python 3",
   "language": "python",
   "name": "python3"
  },
  "language_info": {
   "codemirror_mode": {
    "name": "ipython",
    "version": 3
   },
   "file_extension": ".py",
   "mimetype": "text/x-python",
   "name": "python",
   "nbconvert_exporter": "python",
   "pygments_lexer": "ipython3",
   "version": "3.8.8"
  }
 },
 "nbformat": 4,
 "nbformat_minor": 5
}
