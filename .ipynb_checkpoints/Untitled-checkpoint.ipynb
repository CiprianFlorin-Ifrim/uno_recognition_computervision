{
 "cells": [
  {
   "cell_type": "code",
   "execution_count": 5,
   "id": "6f38dea2",
   "metadata": {},
   "outputs": [
    {
     "name": "stdout",
     "output_type": "stream",
     "text": [
      "C:/Users/cipri/Desktop/Assignment II - Computer Vision/uno_recognition_computervision/uno_images_set1\n"
     ]
    }
   ],
   "source": [
    "from tkinter import *\n",
    "from tkinter.filedialog import askdirectory\n",
    "# Create object \n",
    "root = Tk()\n",
    " \n",
    "# Adjust size \n",
    "root.geometry(\"500x280\")\n",
    "\n",
    "frameCnt = 58\n",
    "frames = [PhotoImage(file='menu.gif',format = 'gif -index %i' %(i)) for i in range(frameCnt)]\n",
    "def pathdisplay():\n",
    "    path=askdirectory()\n",
    "    print(path)\n",
    "\n",
    "def update(ind):\n",
    "    try:\n",
    "        frame = frames[ind]\n",
    "        ind += 1\n",
    "        label.configure(image=frame)\n",
    "        root.after(80, update, ind)\n",
    "    except IndexError:\n",
    "        pass\n",
    "      \n",
    "def createNewWindow():\n",
    "    def switchwindow():\n",
    "        newWindow.destroy()\n",
    "        root.update()\n",
    "        root.deiconify()\n",
    "        \n",
    "    newWindow = Toplevel(root, height=275, width=120, bg=\"black\", bd=10)\n",
    "    root.withdraw()\n",
    "    \n",
    "    identify_img_button = Button(newWindow, text = \"Identify UNO\\nRF Classifier\", bg = \"black\", fg = \"white\")\n",
    "    identify_img_button.place(x=10, y=10)\n",
    "    \n",
    "    identify_pytesseract_button = Button(newWindow, text = \"Identify UNO\\nPytessearct\", bg = \"black\", fg = \"white\")\n",
    "    identify_pytesseract_button.place(x=10, y=60)\n",
    "\n",
    "    identify_folder_button = Button(newWindow, text = \"Identify UNO\\nFull Folder\", bg = \"black\", fg = \"white\")\n",
    "    identify_folder_button.place(x=10, y=110)\n",
    "\n",
    "    identify_camera_button = Button(newWindow, text = \"Identify UNO\\nCamera\", bg = \"black\", fg = \"white\")\n",
    "    identify_camera_button.place(x=10, y=160)\n",
    "    \n",
    "    return_button = Button(newWindow, text = \"RETURN\", bg = \"black\", fg = \"red\", command=switchwindow)\n",
    "    return_button.place(x=22, y=220)\n",
    "\n",
    "\n",
    "\n",
    "# Show gif using label\n",
    "label = Label(root)\n",
    "label.place(x = 0,y = 0)\n",
    "\n",
    "# Add text\n",
    "label2 = Label(root, text = \"COMPUTER VISION - UNO IDENTIFICATION\", bg = \"black\", fg = \"white\")\n",
    "label2.pack(pady = 5)\n",
    "  \n",
    "# Add buttons\n",
    "dataset_button = Button(root, text = \"Create CSV Dataset\", bg = \"black\", fg = \"white\", command=pathdisplay)\n",
    "dataset_button.place(x=60, y=250)\n",
    "  \n",
    "train_button = Button(root, text = \"Train RFC Classifier\", bg = \"black\", fg = \"white\")\n",
    "train_button.place(x=195, y=250)\n",
    "  \n",
    "identify_button = Button(root, text = \"Identify UNO Card\", bg = \"black\", fg = \"white\", command=createNewWindow)  \n",
    "identify_button.place(x=330, y=250)\n",
    "\n",
    "# Execute tkinter\n",
    "root.after(0, update, 0)\n",
    "root.mainloop()"
   ]
  }
 ],
 "metadata": {
  "kernelspec": {
   "display_name": "Python 3",
   "language": "python",
   "name": "python3"
  },
  "language_info": {
   "codemirror_mode": {
    "name": "ipython",
    "version": 3
   },
   "file_extension": ".py",
   "mimetype": "text/x-python",
   "name": "python",
   "nbconvert_exporter": "python",
   "pygments_lexer": "ipython3",
   "version": "3.8.8"
  }
 },
 "nbformat": 4,
 "nbformat_minor": 5
}
