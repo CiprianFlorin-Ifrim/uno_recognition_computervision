{
 "cells": [
  {
   "cell_type": "code",
   "execution_count": null,
   "id": "ea9281ec",
   "metadata": {},
   "outputs": [],
   "source": [
    "import pickle\n",
    "import numpy as np\n",
    "import pandas as pd\n",
    "from sklearn.model_selection import train_test_split\n",
    "import matplotlib.pyplot as plt\n",
    "from sklearn.ensemble import GradientBoostingClassifier\n",
    "\n",
    "\n",
    "dataset = pd.read_csv('./dataset.csv',header=None)\n",
    "#display(dataset)\n",
    "\n",
    "X = dataset.iloc[:, 1:] \n",
    "y = dataset.iloc[:, 0]\n",
    "#display(X)\n",
    "#display(y)\n",
    "\n",
    "X_train, X_test, y_train, y_test = train_test_split(X, y, test_size=.4)# random_state=42)\n",
    "score = []\n",
    "for i in range(1,500):\n",
    "    clf = GradientBoostingClassifier(n_estimators=i, learning_rate=float(500/(50+i)),\n",
    "          max_depth=i, random_state=0).fit(X_train, y_train)\n",
    "    score.append(clf.score(X_test, y_test))\n",
    "\n",
    "plt.plot(score)\n",
    "plt.title('accuracy')\n",
    "plt.show"
   ]
  }
 ],
 "metadata": {
  "kernelspec": {
   "display_name": "Python 3",
   "language": "python",
   "name": "python3"
  },
  "language_info": {
   "codemirror_mode": {
    "name": "ipython",
    "version": 3
   },
   "file_extension": ".py",
   "mimetype": "text/x-python",
   "name": "python",
   "nbconvert_exporter": "python",
   "pygments_lexer": "ipython3",
   "version": "3.8.8"
  }
 },
 "nbformat": 4,
 "nbformat_minor": 5
}
