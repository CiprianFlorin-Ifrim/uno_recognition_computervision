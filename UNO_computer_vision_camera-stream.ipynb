{
 "cells": [
  {
   "cell_type": "code",
   "execution_count": 1,
   "id": "6458e23f",
   "metadata": {},
   "outputs": [
    {
     "data": {
      "text/html": [
       "<style>.container { width:100% !important; }</style>"
      ],
      "text/plain": [
       "<IPython.core.display.HTML object>"
      ]
     },
     "metadata": {},
     "output_type": "display_data"
    }
   ],
   "source": [
    "#Libraries import\n",
    "import cv2      \n",
    "import operator\n",
    "import numpy as np\n",
    "import matplotlib.pyplot as plt \n",
    "from scipy import ndimage\n",
    "from webcolors import rgb_to_name, name_to_rgb\n",
    "from IPython.core.display import display, HTML\n",
    "display(HTML(\"<style>.container { width:100% !important; }</style>\"))"
   ]
  },
  {
   "cell_type": "code",
   "execution_count": 2,
   "id": "b457c012",
   "metadata": {},
   "outputs": [],
   "source": [
    "#Definitions\n",
    "def map_value(value, in_low, in_high, out_low, out_high):\n",
    "  return out_low + (out_high - out_low) * ((value - in_low) / (in_high - in_low))"
   ]
  },
  {
   "cell_type": "code",
   "execution_count": 19,
   "id": "fd5319eb",
   "metadata": {},
   "outputs": [],
   "source": [
    "cap = cv2.VideoCapture(0)\n",
    "# Setup the width and the height (your cam might not support these settings)\n",
    "width = 640\n",
    "height = 480\n",
    "cap.set(cv2.CAP_PROP_FRAME_WIDTH, width)\n",
    "cap.set(cv2.CAP_PROP_FRAME_HEIGHT, height)\n",
    "\n",
    "while True:\n",
    "    # Step 1: Capture the frame\n",
    "    _, frame = cap.read()\n",
    "    result = frame.copy()\n",
    "    #blurring and smoothin\n",
    "\n",
    "    hsv = cv2.cvtColor(frame,cv2.COLOR_BGR2HSV)\n",
    "\n",
    "    #lower red\n",
    "    lower_red = np.array([0,50,50])\n",
    "    upper_red = np.array([10,255,255])\n",
    "\n",
    "\n",
    "    #upper red\n",
    "    lower_red2 = np.array([170,50,50])\n",
    "    upper_red2 = np.array([180,255,255])\n",
    "\n",
    "    mask = cv2.inRange(hsv, lower_red, upper_red)\n",
    "    res = cv2.bitwise_and(frame,frame, mask= mask)\n",
    "\n",
    "\n",
    "    mask2 = cv2.inRange(hsv, lower_red2, upper_red2)\n",
    "    res2 = cv2.bitwise_and(frame,frame, mask= mask2)\n",
    "\n",
    "    img3 = res+res2\n",
    "    img4 = cv2.add(res,res2)\n",
    "    img5 = cv2.addWeighted(res,0.5,res2,0.5,0)\n",
    "\n",
    "\n",
    "    kernel = np.ones((30, 30),np.float32)/225\n",
    "    smoothed = cv2.filter2D(res,-1,kernel)\n",
    "    smoothed2 = cv2.filter2D(img3,-1,kernel)\n",
    "    \n",
    "    canny_img = cv2.Canny(img4, 150, 200 ) \n",
    "    contours, _ = cv2.findContours(canny_img, cv2.RETR_TREE, cv2.CHAIN_APPROX_NONE)                                                                                  #0 = frame; 1 = uno card perimeter;\n",
    "    cv2.drawContours(frame, contours, -1, (0,255,0), 2)  \n",
    "    \n",
    "    cv2.imshow('res3',img3)\n",
    "    cv2.imshow('res4',img4)\n",
    "    cv2.imshow('frame',frame)\n",
    "    cv2.imshow('canny',canny_img)\n",
    "    # If q is pressed terminate\n",
    "    if cv2.waitKey(1) == ord('q'):\n",
    "        break\n",
    "\n",
    "# Release and destroy all windows\n",
    "cap.release()\n",
    "cv2.destroyAllWindows()"
   ]
  }
 ],
 "metadata": {
  "kernelspec": {
   "display_name": "Python 3",
   "language": "python",
   "name": "python3"
  },
  "language_info": {
   "codemirror_mode": {
    "name": "ipython",
    "version": 3
   },
   "file_extension": ".py",
   "mimetype": "text/x-python",
   "name": "python",
   "nbconvert_exporter": "python",
   "pygments_lexer": "ipython3",
   "version": "3.8.8"
  }
 },
 "nbformat": 4,
 "nbformat_minor": 5
}
