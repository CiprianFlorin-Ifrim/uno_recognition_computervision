{
 "cells": [
  {
   "cell_type": "code",
   "execution_count": 22,
   "id": "0d55ad3a",
   "metadata": {
    "scrolled": true
   },
   "outputs": [
    {
     "name": "stdout",
     "output_type": "stream",
     "text": [
      "[ 12 201 255] [ 32 221 255]\n"
     ]
    }
   ],
   "source": [
    "import cv2\n",
    "import numpy as np\n",
    "import sys\n",
    "import tkinter as tk\n",
    "from tkinter import filedialog\n",
    "\n",
    "image_hsv = None\n",
    "pixel = (0,0,0) #RANDOM DEFAULT VALUE\n",
    "\n",
    "ftypes = [\n",
    "    (\"JPG\", \"*.jpg;*.JPG;*.JPEG\"), \n",
    "    (\"PNG\", \"*.png;*.PNG\"),\n",
    "    (\"GIF\", \"*.gif;*.GIF\"),\n",
    "    (\"All files\", \"*.*\")\n",
    "]\n",
    "\n",
    "def check_boundaries(value, tolerance, ranges, upper_or_lower):\n",
    "    if ranges == 0:\n",
    "        # set the boundary for hue\n",
    "        boundary = 180\n",
    "    elif ranges == 1:\n",
    "        # set the boundary for saturation and value\n",
    "        boundary = 255\n",
    "\n",
    "    if(value + tolerance > boundary):\n",
    "        value = boundary\n",
    "    elif (value - tolerance < 0):\n",
    "        value = 0\n",
    "    else:\n",
    "        if upper_or_lower == 1:\n",
    "            value = value + tolerance\n",
    "        else:\n",
    "            value = value - tolerance\n",
    "    return value\n",
    "\n",
    "def pick_color(event,x,y,flags,param):\n",
    "    if event == cv2.EVENT_LBUTTONDOWN:\n",
    "        pixel = image_hsv[y,x]\n",
    "\n",
    "        #HUE, SATURATION, AND VALUE (BRIGHTNESS) RANGES. TOLERANCE COULD BE ADJUSTED.\n",
    "        # Set range = 0 for hue and range = 1 for saturation and brightness\n",
    "        # set upper_or_lower = 1 for upper and upper_or_lower = 0 for lower\n",
    "        hue_upper = check_boundaries(pixel[0], 10, 0, 1)\n",
    "        hue_lower = check_boundaries(pixel[0], 10, 0, 0)\n",
    "        saturation_upper = check_boundaries(pixel[1], 10, 1, 1)\n",
    "        saturation_lower = check_boundaries(pixel[1], 10, 1, 0)\n",
    "        value_upper = check_boundaries(pixel[2], 40, 1, 1)\n",
    "        value_lower = check_boundaries(pixel[2], 40, 1, 0)\n",
    "\n",
    "        upper =  np.array([hue_upper, saturation_upper, value_upper])\n",
    "        lower =  np.array([hue_lower, saturation_lower, value_lower])\n",
    "        print(lower, upper)\n",
    "\n",
    "        #A MONOCHROME MASK FOR GETTING A BETTER VISION OVER THE COLORS \n",
    "        image_mask = cv2.inRange(image_hsv,lower,upper)\n",
    "        cv2.imshow(\"Mask\",image_mask)\n",
    "\n",
    "def main():\n",
    "\n",
    "    global image_hsv, pixel\n",
    "\n",
    "    #OPEN DIALOG FOR READING THE IMAGE FILE\n",
    "    root = tk.Tk()\n",
    "    root.withdraw() #HIDE THE TKINTER GUI\n",
    "    file_path = filedialog.askopenfilename(filetypes = ftypes)\n",
    "    root.update()\n",
    "    image_src = cv2.imread(file_path)\n",
    "    cv2.imshow(\"BGR\",image_src)\n",
    "\n",
    "    #CREATE THE HSV FROM THE BGR IMAGE\n",
    "    image_hsv = cv2.cvtColor(image_src,cv2.COLOR_BGR2HSV)\n",
    "    cv2.imshow(\"HSV\",image_hsv)\n",
    "\n",
    "    #CALLBACK FUNCTION\n",
    "    cv2.setMouseCallback(\"HSV\", pick_color)\n",
    "\n",
    "    cv2.waitKey(0)\n",
    "    cv2.destroyAllWindows()\n",
    "\n",
    "if __name__=='__main__':\n",
    "    main()"
   ]
  }
 ],
 "metadata": {
  "kernelspec": {
   "display_name": "Python 3",
   "language": "python",
   "name": "python3"
  },
  "language_info": {
   "codemirror_mode": {
    "name": "ipython",
    "version": 3
   },
   "file_extension": ".py",
   "mimetype": "text/x-python",
   "name": "python",
   "nbconvert_exporter": "python",
   "pygments_lexer": "ipython3",
   "version": "3.8.8"
  }
 },
 "nbformat": 4,
 "nbformat_minor": 5
}
