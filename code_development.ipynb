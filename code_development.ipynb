{
 "cells": [
  {
   "cell_type": "code",
   "execution_count": 42,
   "id": "f3cf5d58",
   "metadata": {},
   "outputs": [
    {
     "name": "stdout",
     "output_type": "stream",
     "text": [
      "<class 'list'>\n",
      "3 4 6\n",
      "close!\n"
     ]
    }
   ],
   "source": [
    "import math\n",
    "\n",
    "a = [3,4,6]\n",
    "print(type(a))\n",
    "\n",
    "area, perimeter, corners = a\n",
    "print(area, perimeter, corners)\n",
    "\n",
    "#------------------------------------------------------------------------------\n",
    "def closeness(a, b):\n",
    "    if a == b:\n",
    "        return float(\"infinity\")\n",
    "    difference = abs(a - b)\n",
    "    avg = (a + b)/2\n",
    "    return math.log10( avg / difference )\n",
    "\n",
    "\n",
    "if closeness(1000, 1001) > 3:\n",
    "    print(\"close!\")\n",
    "\n",
    "#------------------------------------------------------------------------------ \n"
   ]
  },
  {
   "cell_type": "code",
   "execution_count": 9,
   "id": "2122c5c9",
   "metadata": {},
   "outputs": [
    {
     "name": "stdout",
     "output_type": "stream",
     "text": [
      "[1]\n"
     ]
    }
   ],
   "source": [
    "from sklearn import svm\n",
    "from sklearn.preprocessing import OneHotEncoder\n",
    "\n",
    "data = [['Male', 1, True], ['Female', 3, True], ['Female', 2, False], ['Male', 2, False]]\n",
    "y = [0, 1, 1, 1]  # expected outputs\n",
    "enc = OneHotEncoder(drop='if_binary')  # create encoder obj that drops unneeded columns on binary inputs\n",
    "X = enc.fit_transform(data).toarray()  # vectorize input data\n",
    "clf = svm.SVC(gamma=0.001, C=100.)  # create classifier obj\n",
    "clf.fit(X[:-1], y[:-1])  # fit model using training data (all but last entry)\n",
    "\n",
    "out = clf.predict(X[-1:])  # resulting prediction (last entry only\n",
    "print(out)"
   ]
  }
 ],
 "metadata": {
  "kernelspec": {
   "display_name": "Python 3",
   "language": "python",
   "name": "python3"
  },
  "language_info": {
   "codemirror_mode": {
    "name": "ipython",
    "version": 3
   },
   "file_extension": ".py",
   "mimetype": "text/x-python",
   "name": "python",
   "nbconvert_exporter": "python",
   "pygments_lexer": "ipython3",
   "version": "3.8.8"
  }
 },
 "nbformat": 4,
 "nbformat_minor": 5
}
