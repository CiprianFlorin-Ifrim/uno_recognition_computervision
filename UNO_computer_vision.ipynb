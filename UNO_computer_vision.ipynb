{
 "cells": [
  {
   "cell_type": "code",
   "execution_count": 1,
   "id": "d040a3ec",
   "metadata": {},
   "outputs": [],
   "source": [
    "#Libraries import\n",
    "import cv2                     \n",
    "import numpy as np\n",
    "import matplotlib.pyplot as plt \n",
    "from scipy import ndimage\n",
    "from itertools import chain, islice"
   ]
  },
  {
   "cell_type": "code",
   "execution_count": 30,
   "id": "f03f5ae1",
   "metadata": {},
   "outputs": [
    {
     "name": "stdout",
     "output_type": "stream",
     "text": [
      "60\n",
      "53.65461847389558\n"
     ]
    }
   ],
   "source": [
    "#Image processing before indetification\n",
    "colour_img = cv2.imread('./uno_images/b0.jpg')\n",
    "rotated_img = ndimage.rotate(colour_img, 90)                              #rotate image by 90 degrees, increase user ease of use\n",
    "bw_img = cv2.cvtColor(rotated_img, cv2.COLOR_BGR2GRAY)                    #convert to a black and white image\n",
    "\n",
    "#Debbugging/Testing Binarisation\n",
    "#img_sm = cv2.blur(img, (1, 1))                                           #not required for the images provided, no changes can be noted        \n",
    "#thr_value, img_th = cv2.threshold(bw_img,150, 400, cv2.THRESH_BINARY)    #accurate countours, seems to require more antialising\n",
    "thr_value, th_img = cv2.threshold(bw_img,150, 400, cv2.THRESH_BINARY_INV) #accurate countours, smoother edges compared to regular binary\n",
    "#thr_value, img_th = cv2.threshold(bw_img,150, 400, cv2.THRESH_TRUNC)     #accurate canny that identifies depth, wrong contours\n",
    "#thr_value, img_th = cv2.threshold(bw_img,150, 400, cv2.THRESH_TOZERO)    #accurate canny with noise, issues with contours\n",
    "#thr_value, img_th = cv2.threshold(bw_img,50, 100, cv2.THRESH_TOZERO_INV) #inaccurate countours \n",
    "\n",
    "#Morphology correction (very small changes with images provided, helps with countour accuracy)\n",
    "kernel = np.ones((3, 3), np.uint8)                                        #higher kernel = less accurate contours\n",
    "#close_img = cv2.morphologyEx(img_th, cv2.MORPH_CLOSE, kernel)            #erosion + dilute method (internal spaces removal)\n",
    "open_img = cv2.morphologyEx(th_img, cv2.MORPH_OPEN, kernel)               #dilute + erosion method (noise removal)\n",
    "\n",
    "#Edge detection and countours mapping\n",
    "canny_img = cv2.Canny(open_img, 50, 100)                                  #edge detection using the OpenCV Canny method\n",
    "contours, _ = cv2.findContours(open_img, cv2.RETR_TREE, cv2.CHAIN_APPROX_NONE)  \n",
    "selected_contour = 1                                                      #0 = frame; 1 = uno card perimeter;\n",
    "final_img = cv2.drawContours(rotated_img, contours, selected_contour, (0,255,0), 2, cv2.LINE_AA)\n",
    "\n",
    "\n",
    "#cv2.drawContours(colour_img, contours, -1, (0, 255, 0), 1)               #draw all countours in green on top of the original colour image\n",
    "#print(len(contours))                                                     #debugging: show how many contours have been found\n",
    "#print(hierarchy)\n",
    "\n",
    "#Contours coordinates manual\n",
    "#max_coords = max((contours[selected_contour]).tolist())\n",
    "#contour_x = (max_coords[0])[0]\n",
    "#contour_y = (max_coords[0])[1]\n",
    "#print(contours[selected_contour])\n",
    "#print(max_coords)\n",
    "#print(contour_x)\n",
    "#print(contour_y)\n",
    "\n",
    "#Contour cropped image with coordinates using OpenCV\n",
    "\n",
    "x_cnt,y_cnt,w_cnt,h_cnt = cv2.boundingRect(contours[selected_contour])\n",
    "contour_cropped_img = rotated_img[y_cnt:y_cnt+h_cnt, x_cnt:x_cnt+w_cnt] \n",
    "framed_img = cv2.copyMakeBorder(contour_cropped_img,30,30,30,30,cv2.BORDER_CONSTANT,value=(0,0,0))\n",
    "colour_framed_img = cv2.copyMakeBorder(framed_img,5,5,5,5,cv2.BORDER_CONSTANT,value=(243,118,28))\n",
    "#print(x_cnt, y_cnt, w_cnt, h_cnt)\n",
    "\n",
    "\n",
    "#Identification text placement\n",
    "disp_x = +45                                                      #perfect value = +45\n",
    "disp_y = -75                                                      #perfect value = -75\n",
    "identified_img = cv2.putText(colour_framed_img,\"UNO CARD\", (y_cnt+disp_y, x_cnt+disp_x), cv2.FONT_HERSHEY_SIMPLEX, 0.5, (0,255,0), 1, cv2.LINE_AA)\n",
    "\n",
    "#Colour analysis\n",
    "hsv_pixels = (cv2.cvtColor(contour_cropped_img, cv2.COLOR_BGR2HSV)).tolist()\n",
    "pixels = [x[0][0] for x in hsv_pixels]\n",
    "average = sum(pixels)/len(pixels)\n",
    "frequent_value = max(set(pixels), key = pixels.count)\n",
    "print(frequent_value)\n",
    "#print(type(pixels))\n",
    "print(average)\n",
    "\n",
    "\n",
    "#Show processed image to user\n",
    "cv2.imshow('original', colour_img)\n",
    "cv2.imshow('cropped', contour_cropped_img)\n",
    "cv2.imshow('final_img',identified_img)\n",
    "key = cv2.waitKey(0)\n",
    "cv2.destroyAllWindows()\n",
    "\n",
    "\n"
   ]
  },
  {
   "cell_type": "code",
   "execution_count": null,
   "id": "651da3b8",
   "metadata": {},
   "outputs": [],
   "source": []
  },
  {
   "cell_type": "code",
   "execution_count": null,
   "id": "5677e451",
   "metadata": {},
   "outputs": [],
   "source": []
  },
  {
   "cell_type": "code",
   "execution_count": null,
   "id": "db97929f",
   "metadata": {},
   "outputs": [],
   "source": []
  }
 ],
 "metadata": {
  "kernelspec": {
   "display_name": "Python 3",
   "language": "python",
   "name": "python3"
  },
  "language_info": {
   "codemirror_mode": {
    "name": "ipython",
    "version": 3
   },
   "file_extension": ".py",
   "mimetype": "text/x-python",
   "name": "python",
   "nbconvert_exporter": "python",
   "pygments_lexer": "ipython3",
   "version": "3.8.8"
  }
 },
 "nbformat": 4,
 "nbformat_minor": 5
}
